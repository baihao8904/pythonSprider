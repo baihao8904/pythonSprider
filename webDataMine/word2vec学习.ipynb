{
 "cells": [
  {
   "cell_type": "code",
   "execution_count": 1,
   "metadata": {
    "collapsed": false
   },
   "outputs": [
    {
     "name": "stderr",
     "output_type": "stream",
     "text": [
      "G:\\Anaconda3\\lib\\site-packages\\gensim\\utils.py:855: UserWarning: detected Windows; aliasing chunkize to chunkize_serial\n",
      "  warnings.warn(\"detected Windows; aliasing chunkize to chunkize_serial\")\n"
     ]
    }
   ],
   "source": [
    "import gensim"
   ]
  },
  {
   "cell_type": "code",
   "execution_count": 3,
   "metadata": {
    "collapsed": false
   },
   "outputs": [],
   "source": [
    "themodel = gensim.models.Word2Vec.load('K:\\python_exercise\\pythonSpider_word2vec\\word2vec\\word2vec\\word2vec_wx')"
   ]
  },
  {
   "cell_type": "code",
   "execution_count": 7,
   "metadata": {
    "collapsed": true
   },
   "outputs": [],
   "source": [
    "import pandas as pd\n",
    "import numpy as np"
   ]
  },
  {
   "cell_type": "code",
   "execution_count": 8,
   "metadata": {
    "collapsed": true
   },
   "outputs": [],
   "source": [
    "from collections import Counter"
   ]
  },
  {
   "cell_type": "code",
   "execution_count": 6,
   "metadata": {
    "collapsed": false
   },
   "outputs": [
    {
     "data": {
      "text/plain": [
       "0       (毕业, 0.7562742233276367)\n",
       "1       (就读, 0.7350056171417236)\n",
       "2        (读研, 0.730375349521637)\n",
       "3     (本科毕业, 0.7176627516746521)\n",
       "4     (美国大学, 0.7155618071556091)\n",
       "5       (攻读, 0.7131909728050232)\n",
       "6      (研究生, 0.7109005451202393)\n",
       "7       (预科, 0.7088063359260559)\n",
       "8    (哥伦比亚大学, 0.707567572593689)\n",
       "9     (文理学院, 0.7057806253433228)\n",
       "dtype: object"
      ]
     },
     "execution_count": 6,
     "metadata": {},
     "output_type": "execute_result"
    }
   ],
   "source": [
    " pd.Series(themodel.most_similar(u'大学'))"
   ]
  },
  {
   "cell_type": "code",
   "execution_count": 10,
   "metadata": {
    "collapsed": true
   },
   "outputs": [],
   "source": [
    "def predict_proba(oword, iword):\n",
    "    iword_vec = themodel[iword]\n",
    "    oword = themodel.wv.vocab[oword]\n",
    "    oword_l = themodel.syn1[oword.point].T\n",
    "    dot = np.dot(iword_vec, oword_l)\n",
    "    lprob = -sum(np.logaddexp(0, -dot) + oword.code*dot) \n",
    "    return lprob"
   ]
  },
  {
   "cell_type": "code",
   "execution_count": 9,
   "metadata": {
    "collapsed": true
   },
   "outputs": [],
   "source": [
    "def keywords(s):\n",
    "    s = [w for w in s if w in themodel]\n",
    "    ws = {w:sum([predict_proba(u, w) for u in s]) for w in s}\n",
    "    return Counter(ws).most_common()"
   ]
  },
  {
   "cell_type": "code",
   "execution_count": 11,
   "metadata": {
    "collapsed": true
   },
   "outputs": [],
   "source": [
    "import jieba"
   ]
  },
  {
   "cell_type": "code",
   "execution_count": 14,
   "metadata": {
    "collapsed": false
   },
   "outputs": [
    {
     "data": {
      "text/plain": [
       "0       (买, -501.700707381)\n",
       "1      (居然, -502.297298808)\n",
       "2      (不让, -506.541953331)\n",
       "3      (想来, -506.769533029)\n",
       "4      (唯独, -508.197998957)\n",
       "5       (只好, -508.48410347)\n",
       "6      (无奈, -508.912351793)\n",
       "7      (明明, -509.343989179)\n",
       "8       (了, -509.733255163)\n",
       "9       (大家, -510.07357844)\n",
       "10      (给, -510.579449922)\n",
       "11    (千万别, -511.318401538)\n",
       "12     (这家, -512.152474525)\n",
       "13      (都, -512.281868316)\n",
       "14       (退, -513.91890846)\n",
       "15     (只是, -513.992301546)\n",
       "16      (！, -514.160654522)\n",
       "17      (很, -515.087140776)\n",
       "18      (带, -515.134126488)\n",
       "19      (说, -515.259670831)\n",
       "20      (不, -515.338980615)\n",
       "21    (不怎么, -515.525853367)\n",
       "22      (这, -515.670995191)\n",
       "23      (着, -515.788032785)\n",
       "24       (差, -516.63223372)\n",
       "25     (过期, -516.845728855)\n",
       "26     (失望, -519.009940095)\n",
       "27      (把, -519.275494851)\n",
       "28      (滴, -520.406787294)\n",
       "29     (孩子, -521.821542975)\n",
       "30      (是, -523.210475966)\n",
       "31     (下单, -524.333828273)\n",
       "32      (有, -525.054513365)\n",
       "33      (，, -525.603204206)\n",
       "34      (的, -526.749228358)\n",
       "35     (参加, -527.795309408)\n",
       "36     (超级, -528.360746017)\n",
       "37      (写, -528.754237209)\n",
       "38    (支付宝, -530.785362061)\n",
       "39     (之下, -531.577239938)\n",
       "40     (态度, -534.101485193)\n",
       "41     (活动, -539.639356956)\n",
       "42    (千万家, -540.603467979)\n",
       "43      (接待, -542.46805543)\n",
       "44      (内, -545.921148759)\n",
       "45      (双, -547.114332993)\n",
       "46     (使用, -549.099284422)\n",
       "47      (天, -552.301493811)\n",
       "48     (服务, -562.866099379)\n",
       "49      (30, -566.27431655)\n",
       "50     (早教, -568.857061915)\n",
       "51     (12, -581.403710468)\n",
       "dtype: object"
      ]
     },
     "execution_count": 14,
     "metadata": {},
     "output_type": "execute_result"
    }
   ],
   "source": [
    "s = u'支付宝买的活动，居然说是双12的活动过期了！明明写的下单30天内使用！不接待不让参加，无奈之下只好退了，只是想来给大家说说，早教有千万家，唯独这家不怎么滴，态度服务都超级差，千万别把孩子带着这了，很失望！'\n",
    "pd.Series(keywords(jieba.cut(s,HMM=False)))"
   ]
  },
  {
   "cell_type": "code",
   "execution_count": null,
   "metadata": {
    "collapsed": true
   },
   "outputs": [],
   "source": []
  }
 ],
 "metadata": {
  "anaconda-cloud": {},
  "kernelspec": {
   "display_name": "Python [conda root]",
   "language": "python",
   "name": "conda-root-py"
  },
  "language_info": {
   "codemirror_mode": {
    "name": "ipython",
    "version": 3
   },
   "file_extension": ".py",
   "mimetype": "text/x-python",
   "name": "python",
   "nbconvert_exporter": "python",
   "pygments_lexer": "ipython3",
   "version": "3.5.2"
  }
 },
 "nbformat": 4,
 "nbformat_minor": 1
}
