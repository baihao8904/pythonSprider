{
 "cells": [
  {
   "cell_type": "markdown",
   "metadata": {},
   "source": [
    "# 获取数据"
   ]
  },
  {
   "cell_type": "markdown",
   "metadata": {},
   "source": [
    "## 包括以下几个方面：\n",
    "    1，大众点评关于幼教机构的机构信息，用户评论信息。\n",
    "    2，西安市各地区人口信息。   \n",
    "    3，西安各地区经济信息。  \n",
    "    4，西安各地区小学数量。  \n",
    "    等。"
   ]
  },
  {
   "cell_type": "markdown",
   "metadata": {},
   "source": [
    "# 一，大众点评信息的获取"
   ]
  },
  {
   "cell_type": "markdown",
   "metadata": {},
   "source": [
    "手段：基于python的网络爬虫。应用request，beautiful等库，构建用户代理池等反爬取手段，获取信息存储至Mysql数据库。  \n",
    "遇到困难：  \n",
    "1，大众点评会封掉短时间内访问过多的ip。解决办法：购买稳定网络代理。设置随机生成的爬取间隔，缺点是导致爬取效率较低.  \n",
    "2，评论中有部分emoji表情等内容无法存储。解决办法：正则表达式暴力删掉，或更改数据库的存储字符。  \n",
    "3，部分信息不完全，店铺页面格式不同。 解决办法：爬取时判断，没有的信息用占位符号代替。  \n",
    "4，多次访问后，大众点评需要输入验证码。解决办法：检测输入验证码的页面，终止程序并手动输入。设计断点续传程序方便下次继续。  \n",
    "\n",
    "从点评信息中可以获取的内容：  \n",
    "各地区机构的数量  \n",
    "各地区机构的总体评价  \n",
    "等"
   ]
  },
  {
   "cell_type": "markdown",
   "metadata": {},
   "source": [
    "## 截图展示"
   ]
  },
  {
   "cell_type": "markdown",
   "metadata": {},
   "source": [
    "### （1）， 大众点评爬虫"
   ]
  },
  {
   "cell_type": "markdown",
   "metadata": {},
   "source": [
    "![大众点评爬虫](./截图展示/爬虫展示.png)"
   ]
  },
  {
   "cell_type": "markdown",
   "metadata": {},
   "source": [
    "### （2）数据库字段设计"
   ]
  },
  {
   "cell_type": "markdown",
   "metadata": {},
   "source": [
    "### 2.1店铺信息表"
   ]
  },
  {
   "cell_type": "markdown",
   "metadata": {},
   "source": [
    "#### 字段设计\n",
    "![店铺信息表](./截图展示/shopinfo.png)"
   ]
  },
  {
   "cell_type": "markdown",
   "metadata": {},
   "source": [
    "#### 内容展示\n",
    "![店铺信息表内容](./截图展示/Infocontent.png)"
   ]
  },
  {
   "cell_type": "markdown",
   "metadata": {},
   "source": [
    "### 2.2店铺评分统计表"
   ]
  },
  {
   "cell_type": "markdown",
   "metadata": {},
   "source": [
    "#### 字段设计\n",
    "![店铺评分](./截图展示/shoprank.png)"
   ]
  },
  {
   "cell_type": "markdown",
   "metadata": {},
   "source": [
    "#### 内容展示\n",
    "![店铺评分](./截图展示/rankcontent.png)"
   ]
  },
  {
   "cell_type": "markdown",
   "metadata": {},
   "source": [
    "### 2.3店铺评论表"
   ]
  },
  {
   "cell_type": "markdown",
   "metadata": {},
   "source": [
    "#### 字段设计\n",
    "![评论表](./截图展示/shopcomment.png)"
   ]
  },
  {
   "cell_type": "markdown",
   "metadata": {},
   "source": [
    "#### 内容展示\n",
    "![评论表](./截图展示/commentcontent.png)"
   ]
  },
  {
   "cell_type": "markdown",
   "metadata": {},
   "source": [
    "# 二，西安各地区人口获取"
   ]
  },
  {
   "cell_type": "markdown",
   "metadata": {},
   "source": [
    "数据来源：西安市统计局"
   ]
  },
  {
   "cell_type": "code",
   "execution_count": 10,
   "metadata": {
    "collapsed": true
   },
   "outputs": [],
   "source": [
    "XianPopulation = {\n",
    "    '西安':883.21\n",
    "    }\n",
    "areaPopulation ={\n",
    "        '新城区':60.91,\n",
    "        '碑林区':63.87,\n",
    "        '莲湖区':72.23,\n",
    "        '灞桥区':62.73,\n",
    "        '未央区':85.08,\n",
    "        '雁塔区':123.11,\n",
    "        '阎良区':29.08,\n",
    "        '临潼区':68.18,\n",
    "        '长安区':114.11,\n",
    "        '高陵区':35.11,\n",
    "        '鄠邑区':57.44,\n",
    "        '蓝田县':52.86,\n",
    "        '周至县':58.50,\n",
    "    }"
   ]
  },
  {
   "cell_type": "code",
   "execution_count": 86,
   "metadata": {
    "collapsed": true
   },
   "outputs": [],
   "source": [
    "import pandas as pd"
   ]
  },
  {
   "cell_type": "code",
   "execution_count": 87,
   "metadata": {
    "collapsed": false
   },
   "outputs": [],
   "source": [
    "dfa = pd.DataFrame(pandas.Series(areaPopulation))"
   ]
  },
  {
   "cell_type": "code",
   "execution_count": 44,
   "metadata": {
    "collapsed": false
   },
   "outputs": [],
   "source": [
    "dfa.rename(columns={0:'人口'},inplace=True)"
   ]
  },
  {
   "cell_type": "code",
   "execution_count": 45,
   "metadata": {
    "collapsed": false
   },
   "outputs": [
    {
     "data": {
      "text/html": [
       "<div>\n",
       "<table border=\"1\" class=\"dataframe\">\n",
       "  <thead>\n",
       "    <tr style=\"text-align: right;\">\n",
       "      <th></th>\n",
       "      <th>人口</th>\n",
       "    </tr>\n",
       "  </thead>\n",
       "  <tbody>\n",
       "    <tr>\n",
       "      <th>临潼区</th>\n",
       "      <td>68.18</td>\n",
       "    </tr>\n",
       "    <tr>\n",
       "      <th>周至县</th>\n",
       "      <td>58.50</td>\n",
       "    </tr>\n",
       "    <tr>\n",
       "      <th>新城区</th>\n",
       "      <td>60.91</td>\n",
       "    </tr>\n",
       "    <tr>\n",
       "      <th>未央区</th>\n",
       "      <td>85.08</td>\n",
       "    </tr>\n",
       "    <tr>\n",
       "      <th>灞桥区</th>\n",
       "      <td>62.73</td>\n",
       "    </tr>\n",
       "    <tr>\n",
       "      <th>碑林区</th>\n",
       "      <td>63.87</td>\n",
       "    </tr>\n",
       "    <tr>\n",
       "      <th>莲湖区</th>\n",
       "      <td>72.23</td>\n",
       "    </tr>\n",
       "    <tr>\n",
       "      <th>蓝田县</th>\n",
       "      <td>52.86</td>\n",
       "    </tr>\n",
       "    <tr>\n",
       "      <th>鄠邑区</th>\n",
       "      <td>57.44</td>\n",
       "    </tr>\n",
       "    <tr>\n",
       "      <th>长安区</th>\n",
       "      <td>114.11</td>\n",
       "    </tr>\n",
       "    <tr>\n",
       "      <th>阎良区</th>\n",
       "      <td>29.08</td>\n",
       "    </tr>\n",
       "    <tr>\n",
       "      <th>雁塔区</th>\n",
       "      <td>123.11</td>\n",
       "    </tr>\n",
       "    <tr>\n",
       "      <th>高陵区</th>\n",
       "      <td>35.11</td>\n",
       "    </tr>\n",
       "  </tbody>\n",
       "</table>\n",
       "</div>"
      ],
      "text/plain": [
       "         人口\n",
       "临潼区   68.18\n",
       "周至县   58.50\n",
       "新城区   60.91\n",
       "未央区   85.08\n",
       "灞桥区   62.73\n",
       "碑林区   63.87\n",
       "莲湖区   72.23\n",
       "蓝田县   52.86\n",
       "鄠邑区   57.44\n",
       "长安区  114.11\n",
       "阎良区   29.08\n",
       "雁塔区  123.11\n",
       "高陵区   35.11"
      ]
     },
     "execution_count": 45,
     "metadata": {},
     "output_type": "execute_result"
    }
   ],
   "source": [
    "DataFrameOfXianAreaPopulation = dfa\n",
    "DataFrameOfXianAreaPopulation"
   ]
  },
  {
   "cell_type": "code",
   "execution_count": 48,
   "metadata": {
    "collapsed": false
   },
   "outputs": [
    {
     "data": {
      "text/plain": [
       "人口    883.21\n",
       "dtype: float64"
      ]
     },
     "execution_count": 48,
     "metadata": {},
     "output_type": "execute_result"
    }
   ],
   "source": [
    "DataFrameOfXianAreaPopulation.sum(axis=0)"
   ]
  },
  {
   "cell_type": "markdown",
   "metadata": {},
   "source": [
    "# 三，西安各地区经济信息"
   ]
  },
  {
   "cell_type": "markdown",
   "metadata": {},
   "source": [
    "### 各区县经济"
   ]
  },
  {
   "cell_type": "code",
   "execution_count": 51,
   "metadata": {
    "collapsed": false
   },
   "outputs": [],
   "source": [
    "XianEconomy = {\n",
    "    '全市':{\n",
    "        'GDP(亿元)':6257.18,\n",
    "        '增速':8.5\n",
    "    }\n",
    "}\n",
    "XianareaEconomy = {\n",
    "    '新城区':{\n",
    "        'GDP(亿元)':540.66,\n",
    "        '增速':8.2\n",
    "    },\n",
    "    '碑林区':{\n",
    "        'GDP(亿元)':741.68,\n",
    "        '增速':8.5\n",
    "    },\n",
    "    '莲湖区':{\n",
    "        'GDP(亿元)':621.91,\n",
    "        '增速':8.0\n",
    "    },\n",
    "    '灞桥区':{\n",
    "        'GDP(亿元)':329.78,\n",
    "        '增速':9.6\n",
    "    },\n",
    "    '未央区':{\n",
    "        'GDP(亿元)':772.88,\n",
    "        '增速':8.7\n",
    "    },\n",
    "    '雁塔区':{\n",
    "        'GDP(亿元)':1235.43,\n",
    "        '增速':8.0\n",
    "    },\n",
    "    '阎良区':{\n",
    "        'GDP(亿元)':193.94,\n",
    "        '增速':2.3\n",
    "    },\n",
    "    '临潼区':{\n",
    "        'GDP(亿元)':183.11,\n",
    "        '增速':4.2\n",
    "    },\n",
    "    '长安区':{\n",
    "        'GDP(亿元)':608.02,\n",
    "        '增速':12.0\n",
    "    },\n",
    "    '高陵区':{\n",
    "        'GDP(亿元)':300.24,\n",
    "        '增速':7.3\n",
    "    },\n",
    "    '鄠邑区':{\n",
    "        'GDP(亿元)':162.81,\n",
    "        '增速':8.5\n",
    "    },\n",
    "    '蓝田县':{\n",
    "        'GDP(亿元)':122.44,\n",
    "        '增速':8.2\n",
    "    },\n",
    "    '周至县':{\n",
    "        'GDP(亿元)':114.99,\n",
    "        '增速':8.2\n",
    "    },\n",
    "}"
   ]
  },
  {
   "cell_type": "code",
   "execution_count": 88,
   "metadata": {
    "collapsed": true
   },
   "outputs": [],
   "source": [
    "dfE = pd.DataFrame(XianareaEconomy)"
   ]
  },
  {
   "cell_type": "code",
   "execution_count": 80,
   "metadata": {
    "collapsed": false
   },
   "outputs": [
    {
     "data": {
      "text/html": [
       "<div>\n",
       "<table border=\"1\" class=\"dataframe\">\n",
       "  <thead>\n",
       "    <tr style=\"text-align: right;\">\n",
       "      <th></th>\n",
       "      <th>临潼区</th>\n",
       "      <th>周至县</th>\n",
       "      <th>新城区</th>\n",
       "      <th>未央区</th>\n",
       "      <th>灞桥区</th>\n",
       "      <th>碑林区</th>\n",
       "      <th>莲湖区</th>\n",
       "      <th>蓝田县</th>\n",
       "      <th>鄠邑区</th>\n",
       "      <th>长安区</th>\n",
       "      <th>阎良区</th>\n",
       "      <th>雁塔区</th>\n",
       "      <th>高陵区</th>\n",
       "    </tr>\n",
       "  </thead>\n",
       "  <tbody>\n",
       "    <tr>\n",
       "      <th>GDP(亿元)</th>\n",
       "      <td>183.11</td>\n",
       "      <td>114.99</td>\n",
       "      <td>540.66</td>\n",
       "      <td>772.88</td>\n",
       "      <td>329.78</td>\n",
       "      <td>741.68</td>\n",
       "      <td>621.91</td>\n",
       "      <td>122.44</td>\n",
       "      <td>162.81</td>\n",
       "      <td>608.02</td>\n",
       "      <td>193.94</td>\n",
       "      <td>1235.43</td>\n",
       "      <td>300.24</td>\n",
       "    </tr>\n",
       "    <tr>\n",
       "      <th>增速</th>\n",
       "      <td>4.20</td>\n",
       "      <td>8.20</td>\n",
       "      <td>8.20</td>\n",
       "      <td>8.70</td>\n",
       "      <td>9.60</td>\n",
       "      <td>8.50</td>\n",
       "      <td>8.00</td>\n",
       "      <td>8.20</td>\n",
       "      <td>8.50</td>\n",
       "      <td>12.00</td>\n",
       "      <td>2.30</td>\n",
       "      <td>8.00</td>\n",
       "      <td>7.30</td>\n",
       "    </tr>\n",
       "  </tbody>\n",
       "</table>\n",
       "</div>"
      ],
      "text/plain": [
       "            临潼区     周至县     新城区     未央区     灞桥区     碑林区     莲湖区     蓝田县  \\\n",
       "GDP(亿元)  183.11  114.99  540.66  772.88  329.78  741.68  621.91  122.44   \n",
       "增速         4.20    8.20    8.20    8.70    9.60    8.50    8.00    8.20   \n",
       "\n",
       "            鄠邑区     长安区     阎良区      雁塔区     高陵区  \n",
       "GDP(亿元)  162.81  608.02  193.94  1235.43  300.24  \n",
       "增速         8.50   12.00    2.30     8.00    7.30  "
      ]
     },
     "execution_count": 80,
     "metadata": {},
     "output_type": "execute_result"
    }
   ],
   "source": [
    "dfE"
   ]
  },
  {
   "cell_type": "code",
   "execution_count": 81,
   "metadata": {
    "collapsed": false
   },
   "outputs": [],
   "source": [
    "dfE['全市'] = dfE.sum(axis=1)"
   ]
  },
  {
   "cell_type": "code",
   "execution_count": 82,
   "metadata": {
    "collapsed": false
   },
   "outputs": [],
   "source": [
    "dfE.loc['增速',['全市']] = 8.5"
   ]
  },
  {
   "cell_type": "code",
   "execution_count": 83,
   "metadata": {
    "collapsed": false
   },
   "outputs": [
    {
     "data": {
      "text/html": [
       "<div>\n",
       "<table border=\"1\" class=\"dataframe\">\n",
       "  <thead>\n",
       "    <tr style=\"text-align: right;\">\n",
       "      <th></th>\n",
       "      <th>临潼区</th>\n",
       "      <th>周至县</th>\n",
       "      <th>新城区</th>\n",
       "      <th>未央区</th>\n",
       "      <th>灞桥区</th>\n",
       "      <th>碑林区</th>\n",
       "      <th>莲湖区</th>\n",
       "      <th>蓝田县</th>\n",
       "      <th>鄠邑区</th>\n",
       "      <th>长安区</th>\n",
       "      <th>阎良区</th>\n",
       "      <th>雁塔区</th>\n",
       "      <th>高陵区</th>\n",
       "      <th>全市</th>\n",
       "    </tr>\n",
       "  </thead>\n",
       "  <tbody>\n",
       "    <tr>\n",
       "      <th>GDP(亿元)</th>\n",
       "      <td>183.11</td>\n",
       "      <td>114.99</td>\n",
       "      <td>540.66</td>\n",
       "      <td>772.88</td>\n",
       "      <td>329.78</td>\n",
       "      <td>741.68</td>\n",
       "      <td>621.91</td>\n",
       "      <td>122.44</td>\n",
       "      <td>162.81</td>\n",
       "      <td>608.02</td>\n",
       "      <td>193.94</td>\n",
       "      <td>1235.43</td>\n",
       "      <td>300.24</td>\n",
       "      <td>5927.89</td>\n",
       "    </tr>\n",
       "    <tr>\n",
       "      <th>增速</th>\n",
       "      <td>4.20</td>\n",
       "      <td>8.20</td>\n",
       "      <td>8.20</td>\n",
       "      <td>8.70</td>\n",
       "      <td>9.60</td>\n",
       "      <td>8.50</td>\n",
       "      <td>8.00</td>\n",
       "      <td>8.20</td>\n",
       "      <td>8.50</td>\n",
       "      <td>12.00</td>\n",
       "      <td>2.30</td>\n",
       "      <td>8.00</td>\n",
       "      <td>7.30</td>\n",
       "      <td>8.50</td>\n",
       "    </tr>\n",
       "  </tbody>\n",
       "</table>\n",
       "</div>"
      ],
      "text/plain": [
       "            临潼区     周至县     新城区     未央区     灞桥区     碑林区     莲湖区     蓝田县  \\\n",
       "GDP(亿元)  183.11  114.99  540.66  772.88  329.78  741.68  621.91  122.44   \n",
       "增速         4.20    8.20    8.20    8.70    9.60    8.50    8.00    8.20   \n",
       "\n",
       "            鄠邑区     长安区     阎良区      雁塔区     高陵区       全市  \n",
       "GDP(亿元)  162.81  608.02  193.94  1235.43  300.24  5927.89  \n",
       "增速         8.50   12.00    2.30     8.00    7.30     8.50  "
      ]
     },
     "execution_count": 83,
     "metadata": {},
     "output_type": "execute_result"
    }
   ],
   "source": [
    "dfE"
   ]
  },
  {
   "cell_type": "markdown",
   "metadata": {},
   "source": [
    "### 产业经济统计"
   ]
  },
  {
   "cell_type": "code",
   "execution_count": 92,
   "metadata": {
    "collapsed": false
   },
   "outputs": [],
   "source": [
    "XianChanyeEconomy = {\n",
    "    '第一产业':{\n",
    "        \"绝对值\":232.01,\n",
    "        \"增长率\":3.8\n",
    "    },\n",
    "     '第二产业':{\n",
    "        \"绝对值\":2197.81,\n",
    "        \"增长率\":8.6\n",
    "    },\n",
    "     '第三产业':{\n",
    "        \"绝对值\":3827.36,\n",
    "        \"增长率\":8.8,\n",
    "    }\n",
    "}\n",
    "ThirdEconomy = {\n",
    "    '交通运输仓储邮政':{\n",
    "        '绝对值':293.65,\n",
    "        \"增长率\":8.1\n",
    "    },\n",
    "    '批发和零售':{\n",
    "        '绝对值':706.23,\n",
    "        \"增长率\":5.4\n",
    "    },\n",
    "    '住宿和餐饮':{\n",
    "        '绝对值':169.79,\n",
    "        \"增长率\":5.4\n",
    "    },\n",
    "    '金融业':{\n",
    "        '绝对值':722.85,\n",
    "        \"增长率\":9.1\n",
    "    },\n",
    "    '房地产业':{\n",
    "        '绝对值':425.42,\n",
    "        \"增长率\":6.1\n",
    "    },\n",
    "     '其他服务业':{\n",
    "        '绝对值':1467.35,\n",
    "        \"增长率\":12.3\n",
    "    },\n",
    "}"
   ]
  },
  {
   "cell_type": "code",
   "execution_count": 93,
   "metadata": {
    "collapsed": true
   },
   "outputs": [],
   "source": [
    "dfChanye = pd.DataFrame(XianChanyeEconomy)\n",
    "dfthirdchanye = pd.DataFrame(ThirdEconomy)"
   ]
  },
  {
   "cell_type": "code",
   "execution_count": 94,
   "metadata": {
    "collapsed": false
   },
   "outputs": [
    {
     "data": {
      "text/html": [
       "<div>\n",
       "<table border=\"1\" class=\"dataframe\">\n",
       "  <thead>\n",
       "    <tr style=\"text-align: right;\">\n",
       "      <th></th>\n",
       "      <th>第一产业</th>\n",
       "      <th>第三产业</th>\n",
       "      <th>第二产业</th>\n",
       "    </tr>\n",
       "  </thead>\n",
       "  <tbody>\n",
       "    <tr>\n",
       "      <th>增长率</th>\n",
       "      <td>3.80</td>\n",
       "      <td>8.80</td>\n",
       "      <td>8.60</td>\n",
       "    </tr>\n",
       "    <tr>\n",
       "      <th>绝对值</th>\n",
       "      <td>232.01</td>\n",
       "      <td>3827.36</td>\n",
       "      <td>2197.81</td>\n",
       "    </tr>\n",
       "  </tbody>\n",
       "</table>\n",
       "</div>"
      ],
      "text/plain": [
       "       第一产业     第三产业     第二产业\n",
       "增长率    3.80     8.80     8.60\n",
       "绝对值  232.01  3827.36  2197.81"
      ]
     },
     "execution_count": 94,
     "metadata": {},
     "output_type": "execute_result"
    }
   ],
   "source": [
    "dfChanye"
   ]
  },
  {
   "cell_type": "code",
   "execution_count": 95,
   "metadata": {
    "collapsed": false
   },
   "outputs": [
    {
     "data": {
      "text/html": [
       "<div>\n",
       "<table border=\"1\" class=\"dataframe\">\n",
       "  <thead>\n",
       "    <tr style=\"text-align: right;\">\n",
       "      <th></th>\n",
       "      <th>交通运输仓储邮政</th>\n",
       "      <th>住宿和餐饮</th>\n",
       "      <th>其他服务业</th>\n",
       "      <th>房地产业</th>\n",
       "      <th>批发和零售</th>\n",
       "      <th>金融业</th>\n",
       "    </tr>\n",
       "  </thead>\n",
       "  <tbody>\n",
       "    <tr>\n",
       "      <th>增长率</th>\n",
       "      <td>8.10</td>\n",
       "      <td>5.40</td>\n",
       "      <td>12.30</td>\n",
       "      <td>6.10</td>\n",
       "      <td>5.40</td>\n",
       "      <td>9.10</td>\n",
       "    </tr>\n",
       "    <tr>\n",
       "      <th>绝对值</th>\n",
       "      <td>293.65</td>\n",
       "      <td>169.79</td>\n",
       "      <td>1467.35</td>\n",
       "      <td>425.42</td>\n",
       "      <td>706.23</td>\n",
       "      <td>722.85</td>\n",
       "    </tr>\n",
       "  </tbody>\n",
       "</table>\n",
       "</div>"
      ],
      "text/plain": [
       "     交通运输仓储邮政   住宿和餐饮    其他服务业    房地产业   批发和零售     金融业\n",
       "增长率      8.10    5.40    12.30    6.10    5.40    9.10\n",
       "绝对值    293.65  169.79  1467.35  425.42  706.23  722.85"
      ]
     },
     "execution_count": 95,
     "metadata": {},
     "output_type": "execute_result"
    }
   ],
   "source": [
    "dfthirdchanye"
   ]
  },
  {
   "cell_type": "code",
   "execution_count": null,
   "metadata": {
    "collapsed": true
   },
   "outputs": [],
   "source": []
  }
 ],
 "metadata": {
  "anaconda-cloud": {},
  "kernelspec": {
   "display_name": "Python [conda root]",
   "language": "python",
   "name": "conda-root-py"
  },
  "language_info": {
   "codemirror_mode": {
    "name": "ipython",
    "version": 3
   },
   "file_extension": ".py",
   "mimetype": "text/x-python",
   "name": "python",
   "nbconvert_exporter": "python",
   "pygments_lexer": "ipython3",
   "version": "3.5.2"
  }
 },
 "nbformat": 4,
 "nbformat_minor": 1
}
