{
 "cells": [
  {
   "cell_type": "code",
   "execution_count": 13,
   "metadata": {
    "collapsed": true
   },
   "outputs": [],
   "source": [
    "import urllib.request\n",
    "import re\n",
    "import os"
   ]
  },
  {
   "cell_type": "code",
   "execution_count": 2,
   "metadata": {
    "collapsed": true
   },
   "outputs": [],
   "source": [
    "UserAgent = \"Mozilla/5.0 (Windows NT 10.0; WOW64) AppleWebKit/537.36 (KHTML, like Gecko) Chrome/56.0.2924.87 Safari/537.36\""
   ]
  },
  {
   "cell_type": "code",
   "execution_count": 6,
   "metadata": {
    "collapsed": true
   },
   "outputs": [],
   "source": [
    "key = \"豚鼠\"\n",
    "key = urllib.request.quote(key)"
   ]
  },
  {
   "cell_type": "code",
   "execution_count": 18,
   "metadata": {
    "collapsed": false
   },
   "outputs": [
    {
     "name": "stdout",
     "output_type": "stream",
     "text": [
      "1\n"
     ]
    }
   ],
   "source": [
    "if not os.path.exists(\"./taobao\"):\n",
    "    print(1)\n",
    "    os.mkdir('./taobao')"
   ]
  },
  {
   "cell_type": "code",
   "execution_count": 5,
   "metadata": {
    "collapsed": true
   },
   "outputs": [],
   "source": [
    "def install_ua(Useragent):\n",
    "    us = Useragent\n",
    "    headers=(\"User-Agent\",us)\n",
    "    opener = urllib.request.build_opener()\n",
    "    opener.addheaders=[headers]\n",
    "    urllib.request.install_opener(opener)"
   ]
  },
  {
   "cell_type": "code",
   "execution_count": null,
   "metadata": {
    "collapsed": false
   },
   "outputs": [
    {
     "name": "stdout",
     "output_type": "stream",
     "text": [
      "http://g-search1.alicdn.com/img/bao/uploaded/i4/imgextra/i2/133790292835865753/TB2LF3WXmEb61BjSZFsXXbNMpXa_!!0-saturn_solar.jpg\n",
      "http://g-search1.alicdn.com/img/bao/uploaded/i4/imgextra/i3/165680299314757482/TB2TGrMXbmI.eBjy1zjXXaq5VXa_!!0-saturn_solar.jpg\n",
      "http://g-search1.alicdn.com/img/bao/uploaded/i4/imgextra/i1/198450317009543957/TB2AO7ZcxaK.eBjSZFAXXczFXXa_!!0-saturn_solar.jpg\n"
     ]
    }
   ],
   "source": [
    "for i in range(1,100):\n",
    "    url = \"https://s.taobao.com/search?q=\"+key+\"&s=\"+str(44*(i-1))\n",
    "    install_ua(Useragent=UserAgent)\n",
    "    data = urllib.request.urlopen(url).read().decode(\"utf-8\")\n",
    "    pat = '\"pic_url\":\"(.*?)\"'\n",
    "    img_list = re.compile(pat).findall(data)\n",
    "    for item in img_list:\n",
    "        itemurl = 'http:'+item\n",
    "        print(itemurl)\n",
    "        localfile = \"./taobao/\"+str(i)\n",
    "        urllib.request.urlretrieve(itemurl,filename=localfile)"
   ]
  },
  {
   "cell_type": "code",
   "execution_count": null,
   "metadata": {
    "collapsed": true
   },
   "outputs": [],
   "source": [
    ""
   ]
  }
 ],
 "metadata": {
  "anaconda-cloud": {},
  "kernelspec": {
   "display_name": "Python [conda root]",
   "language": "python",
   "name": "conda-root-py"
  },
  "language_info": {
   "codemirror_mode": {
    "name": "ipython",
    "version": 3.0
   },
   "file_extension": ".py",
   "mimetype": "text/x-python",
   "name": "python",
   "nbconvert_exporter": "python",
   "pygments_lexer": "ipython3",
   "version": "3.5.2"
  }
 },
 "nbformat": 4,
 "nbformat_minor": 0
}